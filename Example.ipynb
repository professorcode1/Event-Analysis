{
  "cells": [
    {
      "cell_type": "markdown",
      "metadata": {
        "id": "k2gjJteU86OE"
      },
      "source": [
        "# Event Analysis\n",
        "This jupyter notebook will show you how to use the Event Analysis Library You can install the library by running\n",
        "```\n",
        "pip install event-analysis\n",
        "```\n",
        "If you have an Nvidia GPU and you want to accelerate your workload using the GPU, you will need to install PyCuda which you can by running\n",
        "```\n",
        "pip install pycuda\n",
        "```\n",
        "The library provides functions for Event Synchronisation and Event Coincidence Analysis. Read the documentation if you want to learn more about them.\n",
        "\n"
      ]
    },
    {
      "cell_type": "code",
      "execution_count": 2,
      "metadata": {
        "colab": {
          "base_uri": "https://localhost:8080/"
        },
        "id": "m1H8XT3m7vpq",
        "outputId": "7562ad8a-99d9-4495-c224-d831108f6a1f"
      },
      "outputs": [
        {
          "name": "stdout",
          "output_type": "stream",
          "text": [
            "Looking in indexes: https://pypi.org/simple, https://us-python.pkg.dev/colab-wheels/public/simple/\n",
            "Collecting geopandas\n",
            "  Downloading geopandas-0.10.2-py2.py3-none-any.whl (1.0 MB)\n",
            "\u001b[K     |████████████████████████████████| 1.0 MB 15.2 MB/s \n",
            "\u001b[?25hCollecting pycuda\n",
            "  Downloading pycuda-2022.1.tar.gz (1.7 MB)\n",
            "\u001b[K     |████████████████████████████████| 1.7 MB 48.7 MB/s \n",
            "\u001b[?25h  Installing build dependencies ... \u001b[?25l\u001b[?25hdone\n",
            "  Getting requirements to build wheel ... \u001b[?25l\u001b[?25hdone\n",
            "    Preparing wheel metadata ... \u001b[?25l\u001b[?25hdone\n",
            "Collecting event-analysis\n",
            "  Downloading event_analysis-0.0.6-py3-none-any.whl (12 kB)\n",
            "Requirement already satisfied: shapely>=1.6 in /usr/local/lib/python3.7/dist-packages (from geopandas) (1.8.5.post1)\n",
            "Collecting fiona>=1.8\n",
            "  Downloading Fiona-1.8.22-cp37-cp37m-manylinux2014_x86_64.whl (16.7 MB)\n",
            "\u001b[K     |████████████████████████████████| 16.7 MB 824 kB/s \n",
            "\u001b[?25hRequirement already satisfied: pandas>=0.25.0 in /usr/local/lib/python3.7/dist-packages (from geopandas) (1.3.5)\n",
            "Collecting pyproj>=2.2.0\n",
            "  Downloading pyproj-3.2.1-cp37-cp37m-manylinux2010_x86_64.whl (6.3 MB)\n",
            "\u001b[K     |████████████████████████████████| 6.3 MB 48.9 MB/s \n",
            "\u001b[?25hRequirement already satisfied: certifi in /usr/local/lib/python3.7/dist-packages (from fiona>=1.8->geopandas) (2022.9.24)\n",
            "Collecting cligj>=0.5\n",
            "  Downloading cligj-0.7.2-py3-none-any.whl (7.1 kB)\n",
            "Requirement already satisfied: attrs>=17 in /usr/local/lib/python3.7/dist-packages (from fiona>=1.8->geopandas) (22.1.0)\n",
            "Requirement already satisfied: click>=4.0 in /usr/local/lib/python3.7/dist-packages (from fiona>=1.8->geopandas) (7.1.2)\n",
            "Requirement already satisfied: setuptools in /usr/local/lib/python3.7/dist-packages (from fiona>=1.8->geopandas) (57.4.0)\n",
            "Collecting munch\n",
            "  Downloading munch-2.5.0-py2.py3-none-any.whl (10 kB)\n",
            "Collecting click-plugins>=1.0\n",
            "  Downloading click_plugins-1.1.1-py2.py3-none-any.whl (7.5 kB)\n",
            "Requirement already satisfied: six>=1.7 in /usr/local/lib/python3.7/dist-packages (from fiona>=1.8->geopandas) (1.15.0)\n",
            "Requirement already satisfied: numpy>=1.17.3 in /usr/local/lib/python3.7/dist-packages (from pandas>=0.25.0->geopandas) (1.21.6)\n",
            "Requirement already satisfied: pytz>=2017.3 in /usr/local/lib/python3.7/dist-packages (from pandas>=0.25.0->geopandas) (2022.6)\n",
            "Requirement already satisfied: python-dateutil>=2.7.3 in /usr/local/lib/python3.7/dist-packages (from pandas>=0.25.0->geopandas) (2.8.2)\n",
            "Collecting mako\n",
            "  Downloading Mako-1.2.4-py3-none-any.whl (78 kB)\n",
            "\u001b[K     |████████████████████████████████| 78 kB 8.5 MB/s \n",
            "\u001b[?25hCollecting pytools>=2011.2\n",
            "  Downloading pytools-2022.1.12.tar.gz (70 kB)\n",
            "\u001b[K     |████████████████████████████████| 70 kB 9.3 MB/s \n",
            "\u001b[?25hRequirement already satisfied: appdirs>=1.4.0 in /usr/local/lib/python3.7/dist-packages (from pycuda) (1.4.4)\n",
            "Collecting platformdirs>=2.2.0\n",
            "  Downloading platformdirs-2.5.4-py3-none-any.whl (14 kB)\n",
            "Requirement already satisfied: typing_extensions>=4.0 in /usr/local/lib/python3.7/dist-packages (from pytools>=2011.2->pycuda) (4.1.1)\n",
            "Requirement already satisfied: numba in /usr/local/lib/python3.7/dist-packages (from event-analysis) (0.56.4)\n",
            "Requirement already satisfied: MarkupSafe>=0.9.2 in /usr/local/lib/python3.7/dist-packages (from mako->pycuda) (2.0.1)\n",
            "Requirement already satisfied: importlib-metadata in /usr/local/lib/python3.7/dist-packages (from mako->pycuda) (4.13.0)\n",
            "Requirement already satisfied: zipp>=0.5 in /usr/local/lib/python3.7/dist-packages (from importlib-metadata->mako->pycuda) (3.10.0)\n",
            "Requirement already satisfied: llvmlite<0.40,>=0.39.0dev0 in /usr/local/lib/python3.7/dist-packages (from numba->event-analysis) (0.39.1)\n",
            "Building wheels for collected packages: pycuda, pytools\n",
            "  Building wheel for pycuda (PEP 517) ... \u001b[?25l\u001b[?25hdone\n",
            "  Created wheel for pycuda: filename=pycuda-2022.1-cp37-cp37m-linux_x86_64.whl size=629701 sha256=982df9bd2e81cf6224acdddcab20610eeda230917fe421832855b86e06607979\n",
            "  Stored in directory: /root/.cache/pip/wheels/17/53/c9/caa05618e686df51f017d8a9923f38d915ce31df67ab6628e6\n",
            "  Building wheel for pytools (setup.py) ... \u001b[?25l\u001b[?25hdone\n",
            "  Created wheel for pytools: filename=pytools-2022.1.12-py2.py3-none-any.whl size=65033 sha256=530065f90c18c704e14ad1ab8b419026d0408cffe03e22cadfcc82e443ddeea3\n",
            "  Stored in directory: /root/.cache/pip/wheels/37/5e/9e/76d7430e116b7cab0016fbabb26b896daae1946a3f7dea9915\n",
            "Successfully built pycuda pytools\n",
            "Installing collected packages: platformdirs, munch, cligj, click-plugins, pytools, pyproj, mako, fiona, pycuda, geopandas, event-analysis\n",
            "Successfully installed click-plugins-1.1.1 cligj-0.7.2 event-analysis-0.0.6 fiona-1.8.22 geopandas-0.10.2 mako-1.2.4 munch-2.5.0 platformdirs-2.5.4 pycuda-2022.1 pyproj-3.2.1 pytools-2022.1.12\n"
          ]
        }
      ],
      "source": [
        "!pip install geopandas pycuda event-analysis"
      ]
    },
    {
      "cell_type": "markdown",
      "metadata": {
        "id": "9CLJ4Oas9f47"
      },
      "source": [
        "To use the library you first need to create a pandas dataframe. The dataframe must satisfy 2 properties\n",
        "\n",
        "1) The index must be an increasing time series of python datetime objects*\n",
        "2) The internal data of the dataframe must be boolean\n",
        "\n",
        "The columns will be the name of the event series\n",
        "\n",
        "*1) Internally the library will store the timeseries in an int32 array such that\n",
        "\n",
        "    timeseries[i] = timeseries[0] + deltatime(hour = array[i])\n",
        "This means if your timeseries has time difference's which are not multiple of an hour then the algorithm will give wrong results. If your time series spans over 65 years i.e\n",
        "\n",
        "    (timeseries[-1] - timeseries[0]).years > 65\n",
        "then an integer overflow will cause the algorithm to give wrong results. If your specific use case meets either of these conditions please open an issue, or better yet fix them yourself and open a pull request! Contributions are much appritiated.\n",
        "\n",
        "Inside the library I have written helper function to convert my data into this format. You will have to write your own.\n",
        "\n"
      ]
    },
    {
      "cell_type": "code",
      "execution_count": 19,
      "metadata": {
        "id": "fjxPtm7AnWex"
      },
      "outputs": [],
      "source": [
        "import datetime\n",
        "import numpy as np\n",
        "import pandas as pd\n",
        "import geopandas as gpd\n",
        "from helperfunction import numpy_from_csv_data, get_Df_From_numpy"
      ]
    },
    {
      "cell_type": "code",
      "execution_count": 5,
      "metadata": {
        "id": "rajqvQwFsDBJ"
      },
      "outputs": [],
      "source": [
        "india_mp_gdf = gpd.read_file(\"/content/drive/MyDrive/shapefile/Ind.shp\")\n",
        "map_shape_object = india_mp_gdf.geometry\n",
        "file_name = \"/content/drive/MyDrive/trmm_3hrs_precp_2003_2019.csv\""
      ]
    },
    {
      "cell_type": "code",
      "execution_count": 6,
      "metadata": {
        "colab": {
          "base_uri": "https://localhost:8080/"
        },
        "id": "pCckW_igsN01",
        "outputId": "e2e4979c-1a6e-4950-99b4-4c5f80a87629"
      },
      "outputs": [
        {
          "name": "stdout",
          "output_type": "stream",
          "text": [
            "Dropping Not Point elements / Points outside shape\n",
            "Number of elements dropped :: 45002\n",
            "Starting main Loop :: Remove Missing Values\n"
          ]
        },
        {
          "name": "stderr",
          "output_type": "stream",
          "text": [
            "14384it [00:52, 273.21it/s]\n"
          ]
        },
        {
          "name": "stdout",
          "output_type": "stream",
          "text": [
            "Number of values dropped :: 115526\n"
          ]
        }
      ],
      "source": [
        "numpy_mat, missing_vals_index_set, viable_columns = numpy_from_csv_data(file_name, map_shape_object)\n",
        "starting_date = datetime.datetime(2003,1,1,hour=0,minute=0,second=0,microsecond=0)\n",
        "time_delta = datetime.timedelta(hours=3)\n",
        "rainDataDf = get_Df_From_numpy(numpy_mat,  viable_columns, starting_date = starting_date, time_delta = time_delta)\n",
        "monsoonDataDf = rainDataDf[rainDataDf.index.month >= 6 | (rainDataDf.index.month <=9) ]\n",
        "monsoonEventDf = monsoonDataDf > np.percentile(monsoonDataDf.to_numpy(copy = True), 98, interpolation = \"lower\", overwrite_input = True)\n"
      ]
    },
    {
      "cell_type": "markdown",
      "metadata": {
        "id": "B_LxKT95_nbP"
      },
      "source": [
        "I am going to be analysing the rainfall events over the Indian sub-continent at 3 hour different from the year 2003 to 2019"
      ]
    },
    {
      "cell_type": "code",
      "execution_count": 20,
      "metadata": {
        "colab": {
          "base_uri": "https://localhost:8080/",
          "height": 418
        },
        "id": "ytUbsFOn_qxZ",
        "outputId": "78fe8be8-6422-413a-84b3-8a1efce49c0c"
      },
      "outputs": [
        {
          "data": {
            "text/html": [
              "\n",
              "  <div id=\"df-5dcca605-dc14-4691-8e9a-fa6c144e1dd9\">\n",
              "    <div class=\"colab-df-container\">\n",
              "      <div>\n",
              "<style scoped>\n",
              "    .dataframe tbody tr th:only-of-type {\n",
              "        vertical-align: middle;\n",
              "    }\n",
              "\n",
              "    .dataframe tbody tr th {\n",
              "        vertical-align: top;\n",
              "    }\n",
              "\n",
              "    .dataframe thead th {\n",
              "        text-align: right;\n",
              "    }\n",
              "</style>\n",
              "<table border=\"1\" class=\"dataframe\">\n",
              "  <thead>\n",
              "    <tr style=\"text-align: right;\">\n",
              "      <th>Coordinates</th>\n",
              "      <th>X93.875Y6.875</th>\n",
              "      <th>X93.625Y7.375</th>\n",
              "      <th>X77.375Y8.125</th>\n",
              "      <th>X77.125Y8.375</th>\n",
              "      <th>X77.375Y8.375</th>\n",
              "      <th>X77.625Y8.375</th>\n",
              "      <th>X77.875Y8.375</th>\n",
              "      <th>X76.875Y8.625</th>\n",
              "      <th>X77.125Y8.625</th>\n",
              "      <th>X77.375Y8.625</th>\n",
              "      <th>...</th>\n",
              "      <th>X74.875Y36.625</th>\n",
              "      <th>X75.125Y36.625</th>\n",
              "      <th>X75.375Y36.625</th>\n",
              "      <th>X75.625Y36.625</th>\n",
              "      <th>X73.875Y36.875</th>\n",
              "      <th>X74.375Y36.875</th>\n",
              "      <th>X74.625Y36.875</th>\n",
              "      <th>X74.875Y36.875</th>\n",
              "      <th>X75.125Y36.875</th>\n",
              "      <th>X75.375Y36.875</th>\n",
              "    </tr>\n",
              "    <tr>\n",
              "      <th>DateTime</th>\n",
              "      <th></th>\n",
              "      <th></th>\n",
              "      <th></th>\n",
              "      <th></th>\n",
              "      <th></th>\n",
              "      <th></th>\n",
              "      <th></th>\n",
              "      <th></th>\n",
              "      <th></th>\n",
              "      <th></th>\n",
              "      <th></th>\n",
              "      <th></th>\n",
              "      <th></th>\n",
              "      <th></th>\n",
              "      <th></th>\n",
              "      <th></th>\n",
              "      <th></th>\n",
              "      <th></th>\n",
              "      <th></th>\n",
              "      <th></th>\n",
              "      <th></th>\n",
              "    </tr>\n",
              "  </thead>\n",
              "  <tbody>\n",
              "    <tr>\n",
              "      <th>2003-07-01 00:00:00</th>\n",
              "      <td>False</td>\n",
              "      <td>False</td>\n",
              "      <td>False</td>\n",
              "      <td>False</td>\n",
              "      <td>False</td>\n",
              "      <td>False</td>\n",
              "      <td>False</td>\n",
              "      <td>False</td>\n",
              "      <td>False</td>\n",
              "      <td>False</td>\n",
              "      <td>...</td>\n",
              "      <td>False</td>\n",
              "      <td>False</td>\n",
              "      <td>False</td>\n",
              "      <td>False</td>\n",
              "      <td>False</td>\n",
              "      <td>False</td>\n",
              "      <td>False</td>\n",
              "      <td>False</td>\n",
              "      <td>False</td>\n",
              "      <td>False</td>\n",
              "    </tr>\n",
              "    <tr>\n",
              "      <th>2003-07-01 03:00:00</th>\n",
              "      <td>False</td>\n",
              "      <td>False</td>\n",
              "      <td>False</td>\n",
              "      <td>False</td>\n",
              "      <td>False</td>\n",
              "      <td>False</td>\n",
              "      <td>False</td>\n",
              "      <td>False</td>\n",
              "      <td>False</td>\n",
              "      <td>False</td>\n",
              "      <td>...</td>\n",
              "      <td>False</td>\n",
              "      <td>False</td>\n",
              "      <td>False</td>\n",
              "      <td>False</td>\n",
              "      <td>False</td>\n",
              "      <td>False</td>\n",
              "      <td>False</td>\n",
              "      <td>False</td>\n",
              "      <td>False</td>\n",
              "      <td>False</td>\n",
              "    </tr>\n",
              "    <tr>\n",
              "      <th>2003-07-01 06:00:00</th>\n",
              "      <td>False</td>\n",
              "      <td>False</td>\n",
              "      <td>False</td>\n",
              "      <td>False</td>\n",
              "      <td>False</td>\n",
              "      <td>False</td>\n",
              "      <td>False</td>\n",
              "      <td>False</td>\n",
              "      <td>False</td>\n",
              "      <td>False</td>\n",
              "      <td>...</td>\n",
              "      <td>False</td>\n",
              "      <td>False</td>\n",
              "      <td>False</td>\n",
              "      <td>False</td>\n",
              "      <td>False</td>\n",
              "      <td>False</td>\n",
              "      <td>False</td>\n",
              "      <td>False</td>\n",
              "      <td>False</td>\n",
              "      <td>False</td>\n",
              "    </tr>\n",
              "    <tr>\n",
              "      <th>2003-07-01 09:00:00</th>\n",
              "      <td>False</td>\n",
              "      <td>False</td>\n",
              "      <td>False</td>\n",
              "      <td>False</td>\n",
              "      <td>False</td>\n",
              "      <td>False</td>\n",
              "      <td>False</td>\n",
              "      <td>False</td>\n",
              "      <td>False</td>\n",
              "      <td>False</td>\n",
              "      <td>...</td>\n",
              "      <td>False</td>\n",
              "      <td>False</td>\n",
              "      <td>False</td>\n",
              "      <td>False</td>\n",
              "      <td>False</td>\n",
              "      <td>False</td>\n",
              "      <td>False</td>\n",
              "      <td>False</td>\n",
              "      <td>False</td>\n",
              "      <td>True</td>\n",
              "    </tr>\n",
              "    <tr>\n",
              "      <th>2003-07-01 12:00:00</th>\n",
              "      <td>False</td>\n",
              "      <td>False</td>\n",
              "      <td>False</td>\n",
              "      <td>False</td>\n",
              "      <td>False</td>\n",
              "      <td>False</td>\n",
              "      <td>False</td>\n",
              "      <td>False</td>\n",
              "      <td>False</td>\n",
              "      <td>False</td>\n",
              "      <td>...</td>\n",
              "      <td>False</td>\n",
              "      <td>False</td>\n",
              "      <td>False</td>\n",
              "      <td>False</td>\n",
              "      <td>False</td>\n",
              "      <td>False</td>\n",
              "      <td>False</td>\n",
              "      <td>False</td>\n",
              "      <td>False</td>\n",
              "      <td>False</td>\n",
              "    </tr>\n",
              "  </tbody>\n",
              "</table>\n",
              "<p>5 rows × 4671 columns</p>\n",
              "</div>\n",
              "      <button class=\"colab-df-convert\" onclick=\"convertToInteractive('df-5dcca605-dc14-4691-8e9a-fa6c144e1dd9')\"\n",
              "              title=\"Convert this dataframe to an interactive table.\"\n",
              "              style=\"display:none;\">\n",
              "        \n",
              "  <svg xmlns=\"http://www.w3.org/2000/svg\" height=\"24px\"viewBox=\"0 0 24 24\"\n",
              "       width=\"24px\">\n",
              "    <path d=\"M0 0h24v24H0V0z\" fill=\"none\"/>\n",
              "    <path d=\"M18.56 5.44l.94 2.06.94-2.06 2.06-.94-2.06-.94-.94-2.06-.94 2.06-2.06.94zm-11 1L8.5 8.5l.94-2.06 2.06-.94-2.06-.94L8.5 2.5l-.94 2.06-2.06.94zm10 10l.94 2.06.94-2.06 2.06-.94-2.06-.94-.94-2.06-.94 2.06-2.06.94z\"/><path d=\"M17.41 7.96l-1.37-1.37c-.4-.4-.92-.59-1.43-.59-.52 0-1.04.2-1.43.59L10.3 9.45l-7.72 7.72c-.78.78-.78 2.05 0 2.83L4 21.41c.39.39.9.59 1.41.59.51 0 1.02-.2 1.41-.59l7.78-7.78 2.81-2.81c.8-.78.8-2.07 0-2.86zM5.41 20L4 18.59l7.72-7.72 1.47 1.35L5.41 20z\"/>\n",
              "  </svg>\n",
              "      </button>\n",
              "      \n",
              "  <style>\n",
              "    .colab-df-container {\n",
              "      display:flex;\n",
              "      flex-wrap:wrap;\n",
              "      gap: 12px;\n",
              "    }\n",
              "\n",
              "    .colab-df-convert {\n",
              "      background-color: #E8F0FE;\n",
              "      border: none;\n",
              "      border-radius: 50%;\n",
              "      cursor: pointer;\n",
              "      display: none;\n",
              "      fill: #1967D2;\n",
              "      height: 32px;\n",
              "      padding: 0 0 0 0;\n",
              "      width: 32px;\n",
              "    }\n",
              "\n",
              "    .colab-df-convert:hover {\n",
              "      background-color: #E2EBFA;\n",
              "      box-shadow: 0px 1px 2px rgba(60, 64, 67, 0.3), 0px 1px 3px 1px rgba(60, 64, 67, 0.15);\n",
              "      fill: #174EA6;\n",
              "    }\n",
              "\n",
              "    [theme=dark] .colab-df-convert {\n",
              "      background-color: #3B4455;\n",
              "      fill: #D2E3FC;\n",
              "    }\n",
              "\n",
              "    [theme=dark] .colab-df-convert:hover {\n",
              "      background-color: #434B5C;\n",
              "      box-shadow: 0px 1px 3px 1px rgba(0, 0, 0, 0.15);\n",
              "      filter: drop-shadow(0px 1px 2px rgba(0, 0, 0, 0.3));\n",
              "      fill: #FFFFFF;\n",
              "    }\n",
              "  </style>\n",
              "\n",
              "      <script>\n",
              "        const buttonEl =\n",
              "          document.querySelector('#df-5dcca605-dc14-4691-8e9a-fa6c144e1dd9 button.colab-df-convert');\n",
              "        buttonEl.style.display =\n",
              "          google.colab.kernel.accessAllowed ? 'block' : 'none';\n",
              "\n",
              "        async function convertToInteractive(key) {\n",
              "          const element = document.querySelector('#df-5dcca605-dc14-4691-8e9a-fa6c144e1dd9');\n",
              "          const dataTable =\n",
              "            await google.colab.kernel.invokeFunction('convertToInteractive',\n",
              "                                                     [key], {});\n",
              "          if (!dataTable) return;\n",
              "\n",
              "          const docLinkHtml = 'Like what you see? Visit the ' +\n",
              "            '<a target=\"_blank\" href=https://colab.research.google.com/notebooks/data_table.ipynb>data table notebook</a>'\n",
              "            + ' to learn more about interactive tables.';\n",
              "          element.innerHTML = '';\n",
              "          dataTable['output_type'] = 'display_data';\n",
              "          await google.colab.output.renderOutput(dataTable, element);\n",
              "          const docLink = document.createElement('div');\n",
              "          docLink.innerHTML = docLinkHtml;\n",
              "          element.appendChild(docLink);\n",
              "        }\n",
              "      </script>\n",
              "    </div>\n",
              "  </div>\n",
              "  "
            ],
            "text/plain": [
              "Coordinates          X93.875Y6.875  X93.625Y7.375  X77.375Y8.125  \\\n",
              "DateTime                                                           \n",
              "2003-07-01 00:00:00          False          False          False   \n",
              "2003-07-01 03:00:00          False          False          False   \n",
              "2003-07-01 06:00:00          False          False          False   \n",
              "2003-07-01 09:00:00          False          False          False   \n",
              "2003-07-01 12:00:00          False          False          False   \n",
              "\n",
              "Coordinates          X77.125Y8.375  X77.375Y8.375  X77.625Y8.375  \\\n",
              "DateTime                                                           \n",
              "2003-07-01 00:00:00          False          False          False   \n",
              "2003-07-01 03:00:00          False          False          False   \n",
              "2003-07-01 06:00:00          False          False          False   \n",
              "2003-07-01 09:00:00          False          False          False   \n",
              "2003-07-01 12:00:00          False          False          False   \n",
              "\n",
              "Coordinates          X77.875Y8.375  X76.875Y8.625  X77.125Y8.625  \\\n",
              "DateTime                                                           \n",
              "2003-07-01 00:00:00          False          False          False   \n",
              "2003-07-01 03:00:00          False          False          False   \n",
              "2003-07-01 06:00:00          False          False          False   \n",
              "2003-07-01 09:00:00          False          False          False   \n",
              "2003-07-01 12:00:00          False          False          False   \n",
              "\n",
              "Coordinates          X77.375Y8.625  ...  X74.875Y36.625  X75.125Y36.625  \\\n",
              "DateTime                            ...                                   \n",
              "2003-07-01 00:00:00          False  ...           False           False   \n",
              "2003-07-01 03:00:00          False  ...           False           False   \n",
              "2003-07-01 06:00:00          False  ...           False           False   \n",
              "2003-07-01 09:00:00          False  ...           False           False   \n",
              "2003-07-01 12:00:00          False  ...           False           False   \n",
              "\n",
              "Coordinates          X75.375Y36.625  X75.625Y36.625  X73.875Y36.875  \\\n",
              "DateTime                                                              \n",
              "2003-07-01 00:00:00           False           False           False   \n",
              "2003-07-01 03:00:00           False           False           False   \n",
              "2003-07-01 06:00:00           False           False           False   \n",
              "2003-07-01 09:00:00           False           False           False   \n",
              "2003-07-01 12:00:00           False           False           False   \n",
              "\n",
              "Coordinates          X74.375Y36.875  X74.625Y36.875  X74.875Y36.875  \\\n",
              "DateTime                                                              \n",
              "2003-07-01 00:00:00           False           False           False   \n",
              "2003-07-01 03:00:00           False           False           False   \n",
              "2003-07-01 06:00:00           False           False           False   \n",
              "2003-07-01 09:00:00           False           False           False   \n",
              "2003-07-01 12:00:00           False           False           False   \n",
              "\n",
              "Coordinates          X75.125Y36.875  X75.375Y36.875  \n",
              "DateTime                                             \n",
              "2003-07-01 00:00:00           False           False  \n",
              "2003-07-01 03:00:00           False           False  \n",
              "2003-07-01 06:00:00           False           False  \n",
              "2003-07-01 09:00:00           False            True  \n",
              "2003-07-01 12:00:00           False           False  \n",
              "\n",
              "[5 rows x 4671 columns]"
            ]
          },
          "execution_count": 20,
          "metadata": {},
          "output_type": "execute_result"
        }
      ],
      "source": [
        "monsoonEventDf.head()"
      ]
    },
    {
      "cell_type": "code",
      "execution_count": 9,
      "metadata": {
        "id": "FNpF8AlhqmcW"
      },
      "outputs": [],
      "source": [
        "from EventAnalysis import EventAnalysis"
      ]
    },
    {
      "cell_type": "code",
      "execution_count": 10,
      "metadata": {
        "id": "zqbQL4ESqrFN"
      },
      "outputs": [],
      "source": [
        "EA = EventAnalysis(monsoonEventDf)"
      ]
    },
    {
      "cell_type": "code",
      "execution_count": 12,
      "metadata": {
        "colab": {
          "base_uri": "https://localhost:8080/"
        },
        "id": "qU-6EQjh9Oo6",
        "outputId": "cf4db555-479e-4ea5-d762-4e5a6162f9d6"
      },
      "outputs": [
        {
          "name": "stdout",
          "output_type": "stream",
          "text": [
            "Device ID was not specified, reverting to 0\n",
            "Device in use \n",
            "\tTesla T4\n",
            "Time elapsed to run the computation :: 2 minutes 24 seconds \n"
          ]
        }
      ],
      "source": [
        "ES_Q = EA.ES_Cuda()"
      ]
    },
    {
      "cell_type": "code",
      "execution_count": 14,
      "metadata": {
        "colab": {
          "base_uri": "https://localhost:8080/"
        },
        "id": "hltm3VyytE7H",
        "outputId": "f2cb4424-d9e6-466d-e8c5-67320e9a0770"
      },
      "outputs": [
        {
          "data": {
            "text/plain": [
              "3.0"
            ]
          },
          "execution_count": 14,
          "metadata": {},
          "output_type": "execute_result"
        }
      ],
      "source": [
        "ES_Q['X68.125Y23.625']['X77.375Y8.125']"
      ]
    },
    {
      "cell_type": "code",
      "execution_count": 16,
      "metadata": {
        "colab": {
          "base_uri": "https://localhost:8080/"
        },
        "id": "r5fZiWwt-byR",
        "outputId": "f377779c-e11f-44b8-8240-3eea38de1d4b"
      },
      "outputs": [
        {
          "name": "stdout",
          "output_type": "stream",
          "text": [
            "Time elapsed to run the computation :: 0 minutes 5 seconds \n"
          ]
        }
      ],
      "source": [
        "EC_p_max,EC_p_mean, EC_t_max,EC_t_mean, p_prec, p_trig = EA.ECA_Cuda(datetime.timedelta(hours = 100), return_p_values = True)"
      ]
    },
    {
      "cell_type": "code",
      "execution_count": 17,
      "metadata": {
        "colab": {
          "base_uri": "https://localhost:8080/"
        },
        "id": "Oc0pcFp5-vsv",
        "outputId": "abe3ebae-631e-465f-bc5f-65a8f7468c65"
      },
      "outputs": [
        {
          "data": {
            "text/plain": [
              "0.088"
            ]
          },
          "execution_count": 17,
          "metadata": {},
          "output_type": "execute_result"
        }
      ],
      "source": [
        "EC_t_max['X68.125Y23.625']['X77.375Y8.125']"
      ]
    },
    {
      "cell_type": "code",
      "execution_count": 18,
      "metadata": {
        "colab": {
          "base_uri": "https://localhost:8080/"
        },
        "id": "kGNDuzpG-1jy",
        "outputId": "f1001cac-6e62-42c2-f970-7e1a5353112c"
      },
      "outputs": [
        {
          "name": "stdout",
          "output_type": "stream",
          "text": [
            "Time elapsed to run the computation :: 0 minutes 4 seconds \n"
          ]
        }
      ],
      "source": [
        "for ECA_res in EA.ECA_vec_Cuda([datetime.timedelta(hours = h) for h in range(3, 30, 10)]):\n",
        "  EC_p_max,EC_p_mean, EC_t_max,EC_t_mean = ECA_res"
      ]
    }
  ],
  "metadata": {
    "accelerator": "GPU",
    "colab": {
      "provenance": []
    },
    "gpuClass": "standard",
    "kernelspec": {
      "display_name": "Python 3",
      "name": "python3"
    },
    "language_info": {
      "name": "python"
    }
  },
  "nbformat": 4,
  "nbformat_minor": 0
}
